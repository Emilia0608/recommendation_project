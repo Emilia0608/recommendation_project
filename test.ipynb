{
 "cells": [
  {
   "cell_type": "code",
   "execution_count": 1,
   "id": "99edc087-c95c-4cd9-8750-9a006a340576",
   "metadata": {},
   "outputs": [
    {
     "name": "stderr",
     "output_type": "stream",
     "text": [
      "/usr/local/lib/python3.10/dist-packages/merlin/dtypes/mappings/tf.py:52: UserWarning: Tensorflow dtype mappings did not load successfully due to an error: No module named 'tensorflow'\n",
      "  warn(f\"Tensorflow dtype mappings did not load successfully due to an error: {exc.msg}\")\n"
     ]
    }
   ],
   "source": [
    "import os\n",
    "os.environ[\"CUDA_VISIBLE_DEVICES\"]=\"0\"\n",
    "import glob\n",
    "\n",
    "import cudf\n",
    "import numpy as np\n",
    "import pandas as pd\n",
    "\n",
    "import nvtabular as nvt\n",
    "from nvtabular.ops import *\n",
    "from merlin.schema.tags import Tags"
   ]
  },
  {
   "cell_type": "code",
   "execution_count": 2,
   "id": "04553e49-ee49-43b6-86cb-acfdacb56831",
   "metadata": {},
   "outputs": [],
   "source": [
    "INPUT_DATA_DIR = os.getcwd()"
   ]
  },
  {
   "cell_type": "code",
   "execution_count": 3,
   "id": "abb6cc6e-a17b-4158-b1c3-0d075d940626",
   "metadata": {},
   "outputs": [],
   "source": [
    "NUM_ROWS = os.environ.get(\"NUM_ROWS\", 100000)"
   ]
  },
  {
   "cell_type": "code",
   "execution_count": 4,
   "id": "13092363-76fc-4666-8bd5-c671a79c1439",
   "metadata": {},
   "outputs": [],
   "source": [
    "long_tailed_item_distribution = np.clip(np.random.lognormal(3., 1., int(NUM_ROWS)).astype(np.int32), 1, 50000)\n",
    "# generate random item interaction features \n",
    "df = pd.DataFrame(np.random.randint(70000, 90000, int(NUM_ROWS)), columns=['session_id'])\n",
    "df['item_id'] = long_tailed_item_distribution\n",
    "\n",
    "# generate category mapping for each item-id\n",
    "df['category'] = pd.cut(df['item_id'], bins=334, labels=np.arange(1, 335)).astype(np.int32)\n",
    "df['age_days'] = np.random.uniform(0, 1, int(NUM_ROWS)).astype(np.float32)\n",
    "df['weekday_sin']= np.random.uniform(0, 1, int(NUM_ROWS)).astype(np.float32)\n",
    "\n",
    "# generate day mapping for each session \n",
    "map_day = dict(zip(df.session_id.unique(), np.random.randint(1, 10, size=(df.session_id.nunique()))))\n",
    "df['day'] =  df.session_id.map(map_day)"
   ]
  },
  {
   "cell_type": "code",
   "execution_count": 5,
   "id": "9d6262f3-9b0b-4067-a126-b1bfd253c765",
   "metadata": {},
   "outputs": [
    {
     "data": {
      "text/html": [
       "<div>\n",
       "<style scoped>\n",
       "    .dataframe tbody tr th:only-of-type {\n",
       "        vertical-align: middle;\n",
       "    }\n",
       "\n",
       "    .dataframe tbody tr th {\n",
       "        vertical-align: top;\n",
       "    }\n",
       "\n",
       "    .dataframe thead th {\n",
       "        text-align: right;\n",
       "    }\n",
       "</style>\n",
       "<table border=\"1\" class=\"dataframe\">\n",
       "  <thead>\n",
       "    <tr style=\"text-align: right;\">\n",
       "      <th></th>\n",
       "      <th>session_id</th>\n",
       "      <th>item_id</th>\n",
       "      <th>category</th>\n",
       "      <th>age_days</th>\n",
       "      <th>weekday_sin</th>\n",
       "      <th>day</th>\n",
       "    </tr>\n",
       "  </thead>\n",
       "  <tbody>\n",
       "    <tr>\n",
       "      <th>0</th>\n",
       "      <td>86390</td>\n",
       "      <td>30</td>\n",
       "      <td>5</td>\n",
       "      <td>0.053233</td>\n",
       "      <td>0.482083</td>\n",
       "      <td>5</td>\n",
       "    </tr>\n",
       "    <tr>\n",
       "      <th>1</th>\n",
       "      <td>81359</td>\n",
       "      <td>10</td>\n",
       "      <td>2</td>\n",
       "      <td>0.069111</td>\n",
       "      <td>0.363486</td>\n",
       "      <td>6</td>\n",
       "    </tr>\n",
       "    <tr>\n",
       "      <th>2</th>\n",
       "      <td>74445</td>\n",
       "      <td>14</td>\n",
       "      <td>2</td>\n",
       "      <td>0.568191</td>\n",
       "      <td>0.984585</td>\n",
       "      <td>4</td>\n",
       "    </tr>\n",
       "    <tr>\n",
       "      <th>3</th>\n",
       "      <td>72134</td>\n",
       "      <td>8</td>\n",
       "      <td>2</td>\n",
       "      <td>0.159875</td>\n",
       "      <td>0.538344</td>\n",
       "      <td>3</td>\n",
       "    </tr>\n",
       "    <tr>\n",
       "      <th>4</th>\n",
       "      <td>72609</td>\n",
       "      <td>42</td>\n",
       "      <td>7</td>\n",
       "      <td>0.655202</td>\n",
       "      <td>0.508114</td>\n",
       "      <td>6</td>\n",
       "    </tr>\n",
       "  </tbody>\n",
       "</table>\n",
       "</div>"
      ],
      "text/plain": [
       "   session_id  item_id  category  age_days  weekday_sin  day\n",
       "0       86390       30         5  0.053233     0.482083    5\n",
       "1       81359       10         2  0.069111     0.363486    6\n",
       "2       74445       14         2  0.568191     0.984585    4\n",
       "3       72134        8         2  0.159875     0.538344    3\n",
       "4       72609       42         7  0.655202     0.508114    6"
      ]
     },
     "execution_count": 5,
     "metadata": {},
     "output_type": "execute_result"
    }
   ],
   "source": [
    "df.head()"
   ]
  },
  {
   "cell_type": "code",
   "execution_count": 6,
   "id": "e263eac7-3dc3-4c26-8435-ffe8b4ef1d56",
   "metadata": {},
   "outputs": [],
   "source": [
    "SESSIONS_MAX_LENGTH =20\n",
    "\n",
    "# Categorify categorical features\n",
    "categ_feats = ['item_id', 'category'] >> nvt.ops.Categorify()\n",
    "\n",
    "# Define Groupby Workflow\n",
    "groupby_feats = categ_feats + ['session_id', 'day', 'age_days', 'weekday_sin']\n",
    "\n",
    "# Group interaction features by session\n",
    "groupby_features = groupby_feats >> nvt.ops.Groupby(\n",
    "    groupby_cols=[\"session_id\"], \n",
    "    aggs={\n",
    "        \"item_id\": [\"list\", \"count\"],\n",
    "        \"category\": [\"list\"],     \n",
    "        \"day\": [\"first\"],\n",
    "        \"age_days\": [\"list\"],\n",
    "        'weekday_sin': [\"list\"],\n",
    "        },\n",
    "    name_sep=\"-\")\n",
    "\n",
    "# Select and truncate the sequential features\n",
    "sequence_features_truncated = (\n",
    "    groupby_features['category-list']\n",
    "    >> nvt.ops.ListSlice(-SESSIONS_MAX_LENGTH) \n",
    ")\n",
    "\n",
    "sequence_features_truncated_item = (\n",
    "    groupby_features['item_id-list']\n",
    "    >> nvt.ops.ListSlice(-SESSIONS_MAX_LENGTH) \n",
    "    >> TagAsItemID()\n",
    ")  \n",
    "sequence_features_truncated_cont = (\n",
    "    groupby_features['age_days-list', 'weekday_sin-list'] \n",
    "    >> nvt.ops.ListSlice(-SESSIONS_MAX_LENGTH) \n",
    "    >> nvt.ops.AddMetadata(tags=[Tags.CONTINUOUS])\n",
    ")\n",
    "\n",
    "# Filter out sessions with length 1 (not valid for next-item prediction training and evaluation)\n",
    "MINIMUM_SESSION_LENGTH = 2\n",
    "selected_features = (\n",
    "    groupby_features['item_id-count', 'day-first', 'session_id'] + \n",
    "    sequence_features_truncated_item +\n",
    "    sequence_features_truncated + \n",
    "    sequence_features_truncated_cont\n",
    ")\n",
    "    \n",
    "filtered_sessions = selected_features >> nvt.ops.Filter(f=lambda df: df[\"item_id-count\"] >= MINIMUM_SESSION_LENGTH)\n",
    "\n",
    "seq_feats_list = filtered_sessions['item_id-list', 'category-list', 'age_days-list', 'weekday_sin-list'] >>  nvt.ops.ValueCount()\n",
    "\n",
    "workflow = nvt.Workflow(filtered_sessions['session_id', 'day-first'] + seq_feats_list)\n",
    "\n",
    "dataset = nvt.Dataset(df)\n",
    "\n",
    "# Generate statistics for the features and export parquet files\n",
    "# this step will generate the schema file\n",
    "workflow.fit_transform(dataset).to_parquet(os.path.join(INPUT_DATA_DIR, \"processed_nvt\"))"
   ]
  },
  {
   "cell_type": "code",
   "execution_count": 7,
   "id": "ada2cef3-c22b-4ebe-bf36-88ff39bcc67e",
   "metadata": {},
   "outputs": [
    {
     "data": {
      "text/html": [
       "<div>\n",
       "<style scoped>\n",
       "    .dataframe tbody tr th:only-of-type {\n",
       "        vertical-align: middle;\n",
       "    }\n",
       "\n",
       "    .dataframe tbody tr th {\n",
       "        vertical-align: top;\n",
       "    }\n",
       "\n",
       "    .dataframe thead th {\n",
       "        text-align: right;\n",
       "    }\n",
       "</style>\n",
       "<table border=\"1\" class=\"dataframe\">\n",
       "  <thead>\n",
       "    <tr style=\"text-align: right;\">\n",
       "      <th></th>\n",
       "      <th>name</th>\n",
       "      <th>tags</th>\n",
       "      <th>dtype</th>\n",
       "      <th>is_list</th>\n",
       "      <th>is_ragged</th>\n",
       "      <th>properties.num_buckets</th>\n",
       "      <th>properties.freq_threshold</th>\n",
       "      <th>properties.max_size</th>\n",
       "      <th>properties.cat_path</th>\n",
       "      <th>properties.domain.min</th>\n",
       "      <th>properties.domain.max</th>\n",
       "      <th>properties.domain.name</th>\n",
       "      <th>properties.embedding_sizes.cardinality</th>\n",
       "      <th>properties.embedding_sizes.dimension</th>\n",
       "      <th>properties.value_count.min</th>\n",
       "      <th>properties.value_count.max</th>\n",
       "    </tr>\n",
       "  </thead>\n",
       "  <tbody>\n",
       "    <tr>\n",
       "      <th>0</th>\n",
       "      <td>session_id</td>\n",
       "      <td>()</td>\n",
       "      <td>DType(name='int64', element_type=&lt;ElementType....</td>\n",
       "      <td>False</td>\n",
       "      <td>False</td>\n",
       "      <td>NaN</td>\n",
       "      <td>NaN</td>\n",
       "      <td>NaN</td>\n",
       "      <td>NaN</td>\n",
       "      <td>NaN</td>\n",
       "      <td>NaN</td>\n",
       "      <td>NaN</td>\n",
       "      <td>NaN</td>\n",
       "      <td>NaN</td>\n",
       "      <td>NaN</td>\n",
       "      <td>NaN</td>\n",
       "    </tr>\n",
       "    <tr>\n",
       "      <th>1</th>\n",
       "      <td>day-first</td>\n",
       "      <td>()</td>\n",
       "      <td>DType(name='int64', element_type=&lt;ElementType....</td>\n",
       "      <td>False</td>\n",
       "      <td>False</td>\n",
       "      <td>NaN</td>\n",
       "      <td>NaN</td>\n",
       "      <td>NaN</td>\n",
       "      <td>NaN</td>\n",
       "      <td>NaN</td>\n",
       "      <td>NaN</td>\n",
       "      <td>NaN</td>\n",
       "      <td>NaN</td>\n",
       "      <td>NaN</td>\n",
       "      <td>NaN</td>\n",
       "      <td>NaN</td>\n",
       "    </tr>\n",
       "    <tr>\n",
       "      <th>2</th>\n",
       "      <td>item_id-list</td>\n",
       "      <td>(Tags.CATEGORICAL, Tags.ID, Tags.LIST, Tags.ITEM)</td>\n",
       "      <td>DType(name='int64', element_type=&lt;ElementType....</td>\n",
       "      <td>True</td>\n",
       "      <td>True</td>\n",
       "      <td>NaN</td>\n",
       "      <td>0.0</td>\n",
       "      <td>0.0</td>\n",
       "      <td>.//categories/unique.item_id.parquet</td>\n",
       "      <td>0.0</td>\n",
       "      <td>492.0</td>\n",
       "      <td>item_id</td>\n",
       "      <td>493.0</td>\n",
       "      <td>52.0</td>\n",
       "      <td>2.0</td>\n",
       "      <td>15.0</td>\n",
       "    </tr>\n",
       "    <tr>\n",
       "      <th>3</th>\n",
       "      <td>category-list</td>\n",
       "      <td>(Tags.CATEGORICAL, Tags.LIST)</td>\n",
       "      <td>DType(name='int64', element_type=&lt;ElementType....</td>\n",
       "      <td>True</td>\n",
       "      <td>True</td>\n",
       "      <td>NaN</td>\n",
       "      <td>0.0</td>\n",
       "      <td>0.0</td>\n",
       "      <td>.//categories/unique.category.parquet</td>\n",
       "      <td>0.0</td>\n",
       "      <td>120.0</td>\n",
       "      <td>category</td>\n",
       "      <td>121.0</td>\n",
       "      <td>23.0</td>\n",
       "      <td>2.0</td>\n",
       "      <td>15.0</td>\n",
       "    </tr>\n",
       "    <tr>\n",
       "      <th>4</th>\n",
       "      <td>age_days-list</td>\n",
       "      <td>(Tags.LIST, Tags.CONTINUOUS)</td>\n",
       "      <td>DType(name='float32', element_type=&lt;ElementTyp...</td>\n",
       "      <td>True</td>\n",
       "      <td>True</td>\n",
       "      <td>NaN</td>\n",
       "      <td>NaN</td>\n",
       "      <td>NaN</td>\n",
       "      <td>NaN</td>\n",
       "      <td>NaN</td>\n",
       "      <td>NaN</td>\n",
       "      <td>NaN</td>\n",
       "      <td>NaN</td>\n",
       "      <td>NaN</td>\n",
       "      <td>2.0</td>\n",
       "      <td>15.0</td>\n",
       "    </tr>\n",
       "    <tr>\n",
       "      <th>5</th>\n",
       "      <td>weekday_sin-list</td>\n",
       "      <td>(Tags.LIST, Tags.CONTINUOUS)</td>\n",
       "      <td>DType(name='float32', element_type=&lt;ElementTyp...</td>\n",
       "      <td>True</td>\n",
       "      <td>True</td>\n",
       "      <td>NaN</td>\n",
       "      <td>NaN</td>\n",
       "      <td>NaN</td>\n",
       "      <td>NaN</td>\n",
       "      <td>NaN</td>\n",
       "      <td>NaN</td>\n",
       "      <td>NaN</td>\n",
       "      <td>NaN</td>\n",
       "      <td>NaN</td>\n",
       "      <td>2.0</td>\n",
       "      <td>15.0</td>\n",
       "    </tr>\n",
       "  </tbody>\n",
       "</table>\n",
       "</div>"
      ],
      "text/plain": [
       "[{'name': 'session_id', 'tags': set(), 'properties': {}, 'dtype': DType(name='int64', element_type=<ElementType.Int: 'int'>, element_size=64, element_unit=None, signed=True, shape=Shape(dims=(Dimension(min=0, max=None),))), 'is_list': False, 'is_ragged': False}, {'name': 'day-first', 'tags': set(), 'properties': {}, 'dtype': DType(name='int64', element_type=<ElementType.Int: 'int'>, element_size=64, element_unit=None, signed=True, shape=Shape(dims=(Dimension(min=0, max=None),))), 'is_list': False, 'is_ragged': False}, {'name': 'item_id-list', 'tags': {<Tags.CATEGORICAL: 'categorical'>, <Tags.ID: 'id'>, <Tags.LIST: 'list'>, <Tags.ITEM: 'item'>}, 'properties': {'num_buckets': None, 'freq_threshold': 0, 'max_size': 0, 'cat_path': './/categories/unique.item_id.parquet', 'domain': {'min': 0, 'max': 492, 'name': 'item_id'}, 'embedding_sizes': {'cardinality': 493, 'dimension': 52}, 'value_count': {'min': 2, 'max': 15}}, 'dtype': DType(name='int64', element_type=<ElementType.Int: 'int'>, element_size=64, element_unit=None, signed=True, shape=Shape(dims=(Dimension(min=0, max=None), Dimension(min=2, max=15)))), 'is_list': True, 'is_ragged': True}, {'name': 'category-list', 'tags': {<Tags.CATEGORICAL: 'categorical'>, <Tags.LIST: 'list'>}, 'properties': {'num_buckets': None, 'freq_threshold': 0, 'max_size': 0, 'cat_path': './/categories/unique.category.parquet', 'domain': {'min': 0, 'max': 120, 'name': 'category'}, 'embedding_sizes': {'cardinality': 121, 'dimension': 23}, 'value_count': {'min': 2, 'max': 15}}, 'dtype': DType(name='int64', element_type=<ElementType.Int: 'int'>, element_size=64, element_unit=None, signed=True, shape=Shape(dims=(Dimension(min=0, max=None), Dimension(min=2, max=15)))), 'is_list': True, 'is_ragged': True}, {'name': 'age_days-list', 'tags': {<Tags.LIST: 'list'>, <Tags.CONTINUOUS: 'continuous'>}, 'properties': {'value_count': {'min': 2, 'max': 15}}, 'dtype': DType(name='float32', element_type=<ElementType.Float: 'float'>, element_size=32, element_unit=None, signed=True, shape=Shape(dims=(Dimension(min=0, max=None), Dimension(min=2, max=15)))), 'is_list': True, 'is_ragged': True}, {'name': 'weekday_sin-list', 'tags': {<Tags.LIST: 'list'>, <Tags.CONTINUOUS: 'continuous'>}, 'properties': {'value_count': {'min': 2, 'max': 15}}, 'dtype': DType(name='float32', element_type=<ElementType.Float: 'float'>, element_size=32, element_unit=None, signed=True, shape=Shape(dims=(Dimension(min=0, max=None), Dimension(min=2, max=15)))), 'is_list': True, 'is_ragged': True}]"
      ]
     },
     "execution_count": 7,
     "metadata": {},
     "output_type": "execute_result"
    }
   ],
   "source": [
    "workflow.output_schema"
   ]
  },
  {
   "cell_type": "code",
   "execution_count": 8,
   "id": "db2ce3cb-20f4-4c44-a3c2-3904cf8250aa",
   "metadata": {},
   "outputs": [],
   "source": [
    "workflow.save(os.path.join(INPUT_DATA_DIR, \"workflow_etl\"))"
   ]
  },
  {
   "cell_type": "code",
   "execution_count": 9,
   "id": "fba038a0-45f7-4b1d-9ea1-0091d012cf52",
   "metadata": {},
   "outputs": [],
   "source": [
    "OUTPUT_DIR = os.environ.get(\"OUTPUT_DIR\",os.path.join(INPUT_DATA_DIR, \"sessions_by_day\"))"
   ]
  },
  {
   "cell_type": "code",
   "execution_count": 10,
   "id": "9eca5ed1-c868-466b-9b18-8ef84d114b98",
   "metadata": {},
   "outputs": [],
   "source": [
    "sessions_gdf = cudf.read_parquet(os.path.join(INPUT_DATA_DIR, \"processed_nvt/part_0.parquet\"))"
   ]
  },
  {
   "cell_type": "code",
   "execution_count": 11,
   "id": "7f39ea97-2858-4e7a-bd4a-87408613623f",
   "metadata": {},
   "outputs": [
    {
     "data": {
      "text/html": [
       "<div>\n",
       "<style scoped>\n",
       "    .dataframe tbody tr th:only-of-type {\n",
       "        vertical-align: middle;\n",
       "    }\n",
       "\n",
       "    .dataframe tbody tr th {\n",
       "        vertical-align: top;\n",
       "    }\n",
       "\n",
       "    .dataframe thead th {\n",
       "        text-align: right;\n",
       "    }\n",
       "</style>\n",
       "<table border=\"1\" class=\"dataframe\">\n",
       "  <thead>\n",
       "    <tr style=\"text-align: right;\">\n",
       "      <th></th>\n",
       "      <th>session_id</th>\n",
       "      <th>day-first</th>\n",
       "      <th>item_id-list</th>\n",
       "      <th>category-list</th>\n",
       "      <th>age_days-list</th>\n",
       "      <th>weekday_sin-list</th>\n",
       "    </tr>\n",
       "  </thead>\n",
       "  <tbody>\n",
       "    <tr>\n",
       "      <th>0</th>\n",
       "      <td>70000</td>\n",
       "      <td>9</td>\n",
       "      <td>[31, 46, 5, 41, 55]</td>\n",
       "      <td>[7, 9, 3, 8, 10]</td>\n",
       "      <td>[0.13067873, 0.37698856, 0.43898767, 0.8531232...</td>\n",
       "      <td>[0.8934683, 0.75806284, 0.53071326, 0.7120116,...</td>\n",
       "    </tr>\n",
       "    <tr>\n",
       "      <th>1</th>\n",
       "      <td>70001</td>\n",
       "      <td>5</td>\n",
       "      <td>[21, 161, 50, 13, 87, 57, 17]</td>\n",
       "      <td>[6, 27, 10, 3, 16, 11, 5]</td>\n",
       "      <td>[0.28445303, 0.28887564, 0.87129164, 0.5134322...</td>\n",
       "      <td>[0.85744035, 0.08272948, 0.9764241, 0.7957961,...</td>\n",
       "    </tr>\n",
       "    <tr>\n",
       "      <th>2</th>\n",
       "      <td>70002</td>\n",
       "      <td>7</td>\n",
       "      <td>[23, 5, 21, 6, 65]</td>\n",
       "      <td>[6, 3, 6, 3, 12]</td>\n",
       "      <td>[0.7773844, 0.13950226, 0.9957419, 0.8347177, ...</td>\n",
       "      <td>[0.97682446, 0.3133446, 0.25613874, 0.5599951,...</td>\n",
       "    </tr>\n",
       "  </tbody>\n",
       "</table>\n",
       "</div>"
      ],
      "text/plain": [
       "   session_id  day-first                   item_id-list  \\\n",
       "0       70000          9            [31, 46, 5, 41, 55]   \n",
       "1       70001          5  [21, 161, 50, 13, 87, 57, 17]   \n",
       "2       70002          7             [23, 5, 21, 6, 65]   \n",
       "\n",
       "               category-list  \\\n",
       "0           [7, 9, 3, 8, 10]   \n",
       "1  [6, 27, 10, 3, 16, 11, 5]   \n",
       "2           [6, 3, 6, 3, 12]   \n",
       "\n",
       "                                       age_days-list  \\\n",
       "0  [0.13067873, 0.37698856, 0.43898767, 0.8531232...   \n",
       "1  [0.28445303, 0.28887564, 0.87129164, 0.5134322...   \n",
       "2  [0.7773844, 0.13950226, 0.9957419, 0.8347177, ...   \n",
       "\n",
       "                                    weekday_sin-list  \n",
       "0  [0.8934683, 0.75806284, 0.53071326, 0.7120116,...  \n",
       "1  [0.85744035, 0.08272948, 0.9764241, 0.7957961,...  \n",
       "2  [0.97682446, 0.3133446, 0.25613874, 0.5599951,...  "
      ]
     },
     "execution_count": 11,
     "metadata": {},
     "output_type": "execute_result"
    }
   ],
   "source": [
    "sessions_gdf.head(3)"
   ]
  },
  {
   "cell_type": "code",
   "execution_count": 12,
   "id": "722c6694-00f1-455d-809a-542e402af27f",
   "metadata": {},
   "outputs": [
    {
     "name": "stderr",
     "output_type": "stream",
     "text": [
      "Creating time-based splits: 100%|█████████████████████████████████████████████████████████| 9/9 [00:01<00:00,  7.84it/s]\n"
     ]
    }
   ],
   "source": [
    "from transformers4rec.utils.data_utils import save_time_based_splits\n",
    "save_time_based_splits(data=nvt.Dataset(sessions_gdf),\n",
    "                       output_dir= OUTPUT_DIR,\n",
    "                       partition_col='day-first',\n",
    "                       timestamp_col='session_id', \n",
    "                      )"
   ]
  },
  {
   "cell_type": "code",
   "execution_count": 13,
   "id": "75ce463b-614f-41ae-b29e-d122ba338fb2",
   "metadata": {},
   "outputs": [],
   "source": [
    "TRAIN_PATHS = os.path.join(OUTPUT_DIR, \"1\", \"train.parquet\")"
   ]
  },
  {
   "cell_type": "code",
   "execution_count": 14,
   "id": "369de84a-a1f2-44e9-b1d9-07a4c48fca69",
   "metadata": {},
   "outputs": [
    {
     "data": {
      "text/html": [
       "<div>\n",
       "<style scoped>\n",
       "    .dataframe tbody tr th:only-of-type {\n",
       "        vertical-align: middle;\n",
       "    }\n",
       "\n",
       "    .dataframe tbody tr th {\n",
       "        vertical-align: top;\n",
       "    }\n",
       "\n",
       "    .dataframe thead th {\n",
       "        text-align: right;\n",
       "    }\n",
       "</style>\n",
       "<table border=\"1\" class=\"dataframe\">\n",
       "  <thead>\n",
       "    <tr style=\"text-align: right;\">\n",
       "      <th></th>\n",
       "      <th>session_id</th>\n",
       "      <th>item_id-list</th>\n",
       "      <th>category-list</th>\n",
       "      <th>age_days-list</th>\n",
       "      <th>weekday_sin-list</th>\n",
       "    </tr>\n",
       "  </thead>\n",
       "  <tbody>\n",
       "    <tr>\n",
       "      <th>0</th>\n",
       "      <td>70016</td>\n",
       "      <td>[15, 4, 8, 9, 23, 7]</td>\n",
       "      <td>[5, 4, 4, 3, 6, 3]</td>\n",
       "      <td>[0.67894405, 0.8941715, 0.4536134, 0.654148, 0...</td>\n",
       "      <td>[0.104017854, 0.3352578, 0.93804187, 0.4269311...</td>\n",
       "    </tr>\n",
       "    <tr>\n",
       "      <th>1</th>\n",
       "      <td>70029</td>\n",
       "      <td>[10, 9, 28, 13]</td>\n",
       "      <td>[3, 3, 6, 3]</td>\n",
       "      <td>[0.101147756, 0.32233658, 0.3246822, 0.5806937]</td>\n",
       "      <td>[0.09873905, 0.59186, 0.22335593, 0.7593497]</td>\n",
       "    </tr>\n",
       "    <tr>\n",
       "      <th>2</th>\n",
       "      <td>70037</td>\n",
       "      <td>[26, 18, 16, 17]</td>\n",
       "      <td>[6, 5, 5, 5]</td>\n",
       "      <td>[0.4408881, 0.19247977, 0.25261945, 0.07442593]</td>\n",
       "      <td>[0.88619095, 0.7171725, 0.40067476, 0.6251952]</td>\n",
       "    </tr>\n",
       "    <tr>\n",
       "      <th>4</th>\n",
       "      <td>70059</td>\n",
       "      <td>[28, 86, 30, 85, 14, 72, 24]</td>\n",
       "      <td>[6, 15, 7, 16, 4, 13, 6]</td>\n",
       "      <td>[0.05233805, 0.5696971, 0.6899029, 0.9963922, ...</td>\n",
       "      <td>[0.7317564, 0.50071394, 0.3582579, 0.18126515,...</td>\n",
       "    </tr>\n",
       "    <tr>\n",
       "      <th>5</th>\n",
       "      <td>70069</td>\n",
       "      <td>[51, 28, 11, 5]</td>\n",
       "      <td>[10, 6, 4, 3]</td>\n",
       "      <td>[0.21570408, 0.7117531, 0.56744075, 0.86486465]</td>\n",
       "      <td>[0.43951032, 0.985921, 0.8343776, 0.767135]</td>\n",
       "    </tr>\n",
       "  </tbody>\n",
       "</table>\n",
       "</div>"
      ],
      "text/plain": [
       "   session_id                  item_id-list             category-list  \\\n",
       "0       70016          [15, 4, 8, 9, 23, 7]        [5, 4, 4, 3, 6, 3]   \n",
       "1       70029               [10, 9, 28, 13]              [3, 3, 6, 3]   \n",
       "2       70037              [26, 18, 16, 17]              [6, 5, 5, 5]   \n",
       "4       70059  [28, 86, 30, 85, 14, 72, 24]  [6, 15, 7, 16, 4, 13, 6]   \n",
       "5       70069               [51, 28, 11, 5]             [10, 6, 4, 3]   \n",
       "\n",
       "                                       age_days-list  \\\n",
       "0  [0.67894405, 0.8941715, 0.4536134, 0.654148, 0...   \n",
       "1    [0.101147756, 0.32233658, 0.3246822, 0.5806937]   \n",
       "2    [0.4408881, 0.19247977, 0.25261945, 0.07442593]   \n",
       "4  [0.05233805, 0.5696971, 0.6899029, 0.9963922, ...   \n",
       "5    [0.21570408, 0.7117531, 0.56744075, 0.86486465]   \n",
       "\n",
       "                                    weekday_sin-list  \n",
       "0  [0.104017854, 0.3352578, 0.93804187, 0.4269311...  \n",
       "1       [0.09873905, 0.59186, 0.22335593, 0.7593497]  \n",
       "2     [0.88619095, 0.7171725, 0.40067476, 0.6251952]  \n",
       "4  [0.7317564, 0.50071394, 0.3582579, 0.18126515,...  \n",
       "5        [0.43951032, 0.985921, 0.8343776, 0.767135]  "
      ]
     },
     "execution_count": 14,
     "metadata": {},
     "output_type": "execute_result"
    }
   ],
   "source": [
    "df = pd.read_parquet(TRAIN_PATHS)\n",
    "df.head()"
   ]
  },
  {
   "cell_type": "code",
   "execution_count": 15,
   "id": "c07833a7-3bf8-4afc-9a58-8c0c66e1e1b3",
   "metadata": {},
   "outputs": [
    {
     "name": "stderr",
     "output_type": "stream",
     "text": [
      "/usr/local/lib/python3.10/dist-packages/tqdm/auto.py:21: TqdmWarning: IProgress not found. Please update jupyter and ipywidgets. See https://ipywidgets.readthedocs.io/en/stable/user_install.html\n",
      "  from .autonotebook import tqdm as notebook_tqdm\n"
     ]
    }
   ],
   "source": [
    "from transformers4rec import torch as tr\n",
    "from transformers4rec.torch.ranking_metric import NDCGAt, AvgPrecisionAt, RecallAt\n",
    "from transformers4rec.torch.utils.examples_utils import wipe_memory"
   ]
  },
  {
   "cell_type": "code",
   "execution_count": 16,
   "id": "845197f4-f3da-4d93-9a24-34f604262bee",
   "metadata": {},
   "outputs": [],
   "source": [
    "OUTPUT_DIR = os.environ.get(\"OUTPUT_DIR\", f\"{INPUT_DATA_DIR}/sessions_by_day\")"
   ]
  },
  {
   "cell_type": "code",
   "execution_count": 17,
   "id": "b96808d1-7d58-42a7-8241-9fd934ec4072",
   "metadata": {},
   "outputs": [],
   "source": [
    "from merlin.schema import Schema\n",
    "from merlin.io import Dataset\n",
    "\n",
    "train = Dataset(os.path.join(INPUT_DATA_DIR, \"processed_nvt/part_0.parquet\"))\n",
    "schema = train.schema"
   ]
  },
  {
   "cell_type": "code",
   "execution_count": 60,
   "id": "797d1c58-86f4-4f46-90a0-e3dd94ad4ebc",
   "metadata": {},
   "outputs": [],
   "source": [
    "train = Dataset(os.path.join(INPUT_DATA_DIR, \"movielens-nvt/part_0.parquet\"))\n",
    "schema = train.schema\n",
    "schema = schema.select_by_name(['user_id', 'item_id-list', 'rating-list', 'timestamp-list'])"
   ]
  },
  {
   "cell_type": "code",
   "execution_count": 29,
   "id": "42b72e6c-1230-423f-86dc-04bac121be4b",
   "metadata": {},
   "outputs": [],
   "source": [
    "# schema = schema.select_by_name(['item_id-list', \n",
    "#                                 'category-list', \n",
    "#                                 'weekday_sin-list',\n",
    "#                                 'age_days-list'])"
   ]
  },
  {
   "cell_type": "code",
   "execution_count": 61,
   "id": "357b473a-6e47-4453-812e-cc824da1eeae",
   "metadata": {},
   "outputs": [],
   "source": [
    "inputs = tr.TabularSequenceFeatures.from_schema(\n",
    "        schema,\n",
    "        max_sequence_length=10,\n",
    "        masking=\"mlm\",\n",
    "        d_output=100,\n",
    ")"
   ]
  },
  {
   "cell_type": "code",
   "execution_count": 62,
   "id": "6112f92d-4809-4117-9500-6e6bf5901728",
   "metadata": {},
   "outputs": [],
   "source": [
    "from transformers4rec.torch.ranking_metric import RankingMetric\n",
    "import torch\n",
    "\n",
    "class HitRateAt(RankingMetric):\n",
    "    def __init__(self, top_ks=None, labels_onehot=False):\n",
    "        super(HitRateAt, self).__init__(top_ks=top_ks, labels_onehot=labels_onehot)\n",
    "\n",
    "    def _metric(self, ks: list, scores: torch.Tensor, labels: torch.Tensor) -> torch.Tensor:\n",
    "        \"\"\"\n",
    "        Compute HitRate@K for each of the provided cutoffs.\n",
    "\n",
    "        Parameters\n",
    "        ----------\n",
    "        ks : list\n",
    "            list of cutoffs\n",
    "        scores : torch.Tensor\n",
    "            predicted item scores (batch_size, num_items)\n",
    "        labels : torch.Tensor\n",
    "            true item labels (batch_size, num_items)\n",
    "\n",
    "        Returns\n",
    "        -------\n",
    "        torch.Tensor\n",
    "            HitRate for each cutoff\n",
    "        \"\"\"\n",
    "        batch_size, num_items = scores.size()\n",
    "        topk_indices = torch.topk(scores, max(ks), dim=-1).indices  # Top-K indices for predictions\n",
    "\n",
    "        hit_rates = torch.zeros(batch_size, len(ks), device=scores.device)\n",
    "\n",
    "        for i, k in enumerate(ks):\n",
    "            # Check if any of the top-K items are in the true labels\n",
    "            topk_hits = torch.gather(labels, dim=-1, index=topk_indices[:, :k])\n",
    "            hit_rates[:, i] = (topk_hits.sum(dim=-1) > 0).float()\n",
    "\n",
    "        return hit_rates.mean(dim=0)  # Mean hit rate across the batch\n"
   ]
  },
  {
   "cell_type": "code",
   "execution_count": 63,
   "id": "c7952656-16fa-453f-bca6-f1dc5111f008",
   "metadata": {},
   "outputs": [],
   "source": [
    "# Define XLNetConfig class and set default parameters for HF XLNet config  \n",
    "transformer_config = tr.XLNetConfig.build(\n",
    "    d_model=64, n_head=4, n_layer=2, total_seq_length=10\n",
    ")\n",
    "# Define the model block including: inputs, masking, projection and transformer block.\n",
    "body = tr.SequentialBlock(\n",
    "    inputs, tr.MLPBlock([64]), tr.TransformerBlock(transformer_config, masking=inputs.masking)\n",
    ")\n",
    "\n",
    "# Define the evaluation top-N metrics and the cut-offs\n",
    "metrics = [\n",
    "    NDCGAt(top_ks=[5, 10], labels_onehot=True),\n",
    "    RecallAt(top_ks=[5, 10], labels_onehot=True),\n",
    "    HitRateAt(top_ks=[5, 10], labels_onehot=True),  # 수정된 HitRateAt\n",
    "]\n",
    "\n",
    "# Define a head related to next item prediction task \n",
    "head = tr.Head(\n",
    "    body,\n",
    "    tr.NextItemPredictionTask(weight_tying=True, \n",
    "                              metrics=metrics),\n",
    "    inputs=inputs,\n",
    ")\n",
    "\n",
    "# Get the end-to-end Model class \n",
    "model = tr.Model(head)"
   ]
  },
  {
   "cell_type": "code",
   "execution_count": 64,
   "id": "16617988-24f2-4046-a5cf-e0375bd342c9",
   "metadata": {},
   "outputs": [],
   "source": [
    "per_device_train_batch_size = int(os.environ.get(\n",
    "    \"per_device_train_batch_size\", \n",
    "    '128'\n",
    "))\n",
    "\n",
    "per_device_eval_batch_size = int(os.environ.get(\n",
    "    \"per_device_eval_batch_size\", \n",
    "    '32'\n",
    "))"
   ]
  },
  {
   "cell_type": "code",
   "execution_count": 65,
   "id": "db42ed9e-e9ae-4e90-a49a-36ece8038caa",
   "metadata": {},
   "outputs": [],
   "source": [
    "from transformers4rec.config.trainer import T4RecTrainingArguments\n",
    "from transformers4rec.torch import Trainer\n",
    "# Set hyperparameters for training \n",
    "train_args = T4RecTrainingArguments(data_loader_engine='merlin', \n",
    "                                    dataloader_drop_last = True,\n",
    "                                    gradient_accumulation_steps = 1,\n",
    "                                    per_device_train_batch_size = per_device_train_batch_size, \n",
    "                                    per_device_eval_batch_size = per_device_eval_batch_size,\n",
    "                                    output_dir = \"./tmp\", \n",
    "                                    learning_rate=0.0005,\n",
    "                                    lr_scheduler_type='cosine', \n",
    "                                    learning_rate_num_cosine_cycles_by_epoch=1.5,\n",
    "                                    num_train_epochs=5,\n",
    "                                    max_sequence_length=10, \n",
    "                                    report_to = [],\n",
    "                                    logging_steps=50,\n",
    "                                    no_cuda=False)"
   ]
  },
  {
   "cell_type": "code",
   "execution_count": 66,
   "id": "d353ae4b-ead9-48e3-9a6c-f0d6a028b1e9",
   "metadata": {},
   "outputs": [],
   "source": [
    "trainer = Trainer(\n",
    "    model=model,\n",
    "    args=train_args,\n",
    "    schema=schema,\n",
    "    compute_metrics=True,\n",
    ")"
   ]
  },
  {
   "cell_type": "code",
   "execution_count": 67,
   "id": "7cb5359c-9483-4d27-a117-07188aa6e1f8",
   "metadata": {},
   "outputs": [],
   "source": [
    "start_window_index = int(os.environ.get(\n",
    "    \"start_window_index\", \n",
    "    '1'\n",
    "))\n",
    "\n",
    "final_window_index = int(os.environ.get(\n",
    "    \"final_window_index\", \n",
    "    '8'\n",
    "))"
   ]
  },
  {
   "cell_type": "code",
   "execution_count": 68,
   "id": "4bbe38ce-b416-4948-8286-829ea6824c4d",
   "metadata": {},
   "outputs": [
    {
     "name": "stdout",
     "output_type": "stream",
     "text": [
      "['/tmp/sessions_by_day/1/train.parquet']\n",
      "********************\n",
      "Launch training for day 1 are:\n",
      "********************\n",
      "\n"
     ]
    },
    {
     "name": "stderr",
     "output_type": "stream",
     "text": [
      "/usr/local/lib/python3.10/dist-packages/transformers/optimization.py:391: FutureWarning: This implementation of AdamW is deprecated and will be removed in a future version. Use the PyTorch implementation torch.optim.AdamW instead, or set `no_deprecation_warning=True` to disable this warning\n",
      "  warnings.warn(\n"
     ]
    },
    {
     "data": {
      "text/html": [
       "\n",
       "    <div>\n",
       "      \n",
       "      <progress value='65' max='65' style='width:300px; height:20px; vertical-align: middle;'></progress>\n",
       "      [65/65 00:00, Epoch 5/5]\n",
       "    </div>\n",
       "    <table border=\"1\" class=\"dataframe\">\n",
       "  <thead>\n",
       " <tr style=\"text-align: left;\">\n",
       "      <th>Step</th>\n",
       "      <th>Training Loss</th>\n",
       "    </tr>\n",
       "  </thead>\n",
       "  <tbody>\n",
       "    <tr>\n",
       "      <td>50</td>\n",
       "      <td>7.361100</td>\n",
       "    </tr>\n",
       "  </tbody>\n",
       "</table><p>"
      ],
      "text/plain": [
       "<IPython.core.display.HTML object>"
      ]
     },
     "metadata": {},
     "output_type": "display_data"
    },
    {
     "name": "stdout",
     "output_type": "stream",
     "text": [
      "finished\n"
     ]
    },
    {
     "data": {
      "text/html": [
       "\n",
       "    <div>\n",
       "      \n",
       "      <progress value='42' max='6' style='width:300px; height:20px; vertical-align: middle;'></progress>\n",
       "      [6/6 00:07]\n",
       "    </div>\n",
       "    "
      ],
      "text/plain": [
       "<IPython.core.display.HTML object>"
      ]
     },
     "metadata": {},
     "output_type": "display_data"
    },
    {
     "name": "stdout",
     "output_type": "stream",
     "text": [
      "********************\n",
      "Eval results for day 2 are:\t\n",
      "\n",
      "********************\n",
      "\n",
      " eval_/loss = 6.188547611236572\n",
      " eval_/next-item/hit_rate_at_5 = 0.1901041716337204\n",
      " eval_/next-item/ndcg_at_10 = 0.11114425957202911\n",
      " eval_/next-item/ndcg_at_5 = 0.08520328253507614\n",
      " eval_/next-item/recall_at_10 = 0.2291666716337204\n",
      " eval_/next-item/recall_at_5 = 0.1510416716337204\n",
      " eval_runtime = 0.0864\n",
      " eval_samples_per_second = 2222.964\n",
      " eval_steps_per_second = 69.468\n",
      "['/tmp/sessions_by_day/2/train.parquet']\n",
      "********************\n",
      "Launch training for day 2 are:\n",
      "********************\n",
      "\n"
     ]
    },
    {
     "data": {
      "text/html": [
       "\n",
       "    <div>\n",
       "      \n",
       "      <progress value='65' max='65' style='width:300px; height:20px; vertical-align: middle;'></progress>\n",
       "      [65/65 00:00, Epoch 5/5]\n",
       "    </div>\n",
       "    <table border=\"1\" class=\"dataframe\">\n",
       "  <thead>\n",
       " <tr style=\"text-align: left;\">\n",
       "      <th>Step</th>\n",
       "      <th>Training Loss</th>\n",
       "    </tr>\n",
       "  </thead>\n",
       "  <tbody>\n",
       "    <tr>\n",
       "      <td>50</td>\n",
       "      <td>5.770500</td>\n",
       "    </tr>\n",
       "  </tbody>\n",
       "</table><p>"
      ],
      "text/plain": [
       "<IPython.core.display.HTML object>"
      ]
     },
     "metadata": {},
     "output_type": "display_data"
    },
    {
     "name": "stdout",
     "output_type": "stream",
     "text": [
      "finished\n",
      "********************\n",
      "Eval results for day 3 are:\t\n",
      "\n",
      "********************\n",
      "\n",
      " eval_/loss = 4.84507942199707\n",
      " eval_/next-item/hit_rate_at_5 = 0.2473958432674408\n",
      " eval_/next-item/ndcg_at_10 = 0.1630421280860901\n",
      " eval_/next-item/ndcg_at_5 = 0.1385485827922821\n",
      " eval_/next-item/recall_at_10 = 0.2864583432674408\n",
      " eval_/next-item/recall_at_5 = 0.2083333432674408\n",
      " eval_runtime = 0.0888\n",
      " eval_samples_per_second = 2162.645\n",
      " eval_steps_per_second = 67.583\n",
      "['/tmp/sessions_by_day/3/train.parquet']\n",
      "********************\n",
      "Launch training for day 3 are:\n",
      "********************\n",
      "\n"
     ]
    },
    {
     "data": {
      "text/html": [
       "\n",
       "    <div>\n",
       "      \n",
       "      <progress value='65' max='65' style='width:300px; height:20px; vertical-align: middle;'></progress>\n",
       "      [65/65 00:00, Epoch 5/5]\n",
       "    </div>\n",
       "    <table border=\"1\" class=\"dataframe\">\n",
       "  <thead>\n",
       " <tr style=\"text-align: left;\">\n",
       "      <th>Step</th>\n",
       "      <th>Training Loss</th>\n",
       "    </tr>\n",
       "  </thead>\n",
       "  <tbody>\n",
       "    <tr>\n",
       "      <td>50</td>\n",
       "      <td>4.850000</td>\n",
       "    </tr>\n",
       "  </tbody>\n",
       "</table><p>"
      ],
      "text/plain": [
       "<IPython.core.display.HTML object>"
      ]
     },
     "metadata": {},
     "output_type": "display_data"
    },
    {
     "name": "stdout",
     "output_type": "stream",
     "text": [
      "finished\n",
      "********************\n",
      "Eval results for day 4 are:\t\n",
      "\n",
      "********************\n",
      "\n",
      " eval_/loss = 4.66283655166626\n",
      " eval_/next-item/hit_rate_at_5 = 0.2239583432674408\n",
      " eval_/next-item/ndcg_at_10 = 0.14726775884628296\n",
      " eval_/next-item/ndcg_at_5 = 0.09971418231725693\n",
      " eval_/next-item/recall_at_10 = 0.296875\n",
      " eval_/next-item/recall_at_5 = 0.1510416716337204\n",
      " eval_runtime = 0.0849\n",
      " eval_samples_per_second = 2260.515\n",
      " eval_steps_per_second = 70.641\n",
      "['/tmp/sessions_by_day/4/train.parquet']\n",
      "********************\n",
      "Launch training for day 4 are:\n",
      "********************\n",
      "\n"
     ]
    },
    {
     "data": {
      "text/html": [
       "\n",
       "    <div>\n",
       "      \n",
       "      <progress value='65' max='65' style='width:300px; height:20px; vertical-align: middle;'></progress>\n",
       "      [65/65 00:00, Epoch 5/5]\n",
       "    </div>\n",
       "    <table border=\"1\" class=\"dataframe\">\n",
       "  <thead>\n",
       " <tr style=\"text-align: left;\">\n",
       "      <th>Step</th>\n",
       "      <th>Training Loss</th>\n",
       "    </tr>\n",
       "  </thead>\n",
       "  <tbody>\n",
       "    <tr>\n",
       "      <td>50</td>\n",
       "      <td>4.619500</td>\n",
       "    </tr>\n",
       "  </tbody>\n",
       "</table><p>"
      ],
      "text/plain": [
       "<IPython.core.display.HTML object>"
      ]
     },
     "metadata": {},
     "output_type": "display_data"
    },
    {
     "name": "stdout",
     "output_type": "stream",
     "text": [
      "finished\n",
      "********************\n",
      "Eval results for day 5 are:\t\n",
      "\n",
      "********************\n",
      "\n",
      " eval_/loss = 4.552506923675537\n",
      " eval_/next-item/hit_rate_at_5 = 0.2317708432674408\n",
      " eval_/next-item/ndcg_at_10 = 0.1391473412513733\n",
      " eval_/next-item/ndcg_at_5 = 0.09092982113361359\n",
      " eval_/next-item/recall_at_10 = 0.3072916865348816\n",
      " eval_/next-item/recall_at_5 = 0.15625\n",
      " eval_runtime = 0.0891\n",
      " eval_samples_per_second = 2153.957\n",
      " eval_steps_per_second = 67.311\n",
      "['/tmp/sessions_by_day/5/train.parquet']\n",
      "********************\n",
      "Launch training for day 5 are:\n",
      "********************\n",
      "\n"
     ]
    },
    {
     "data": {
      "text/html": [
       "\n",
       "    <div>\n",
       "      \n",
       "      <progress value='60' max='60' style='width:300px; height:20px; vertical-align: middle;'></progress>\n",
       "      [60/60 00:00, Epoch 5/5]\n",
       "    </div>\n",
       "    <table border=\"1\" class=\"dataframe\">\n",
       "  <thead>\n",
       " <tr style=\"text-align: left;\">\n",
       "      <th>Step</th>\n",
       "      <th>Training Loss</th>\n",
       "    </tr>\n",
       "  </thead>\n",
       "  <tbody>\n",
       "    <tr>\n",
       "      <td>50</td>\n",
       "      <td>4.549500</td>\n",
       "    </tr>\n",
       "  </tbody>\n",
       "</table><p>"
      ],
      "text/plain": [
       "<IPython.core.display.HTML object>"
      ]
     },
     "metadata": {},
     "output_type": "display_data"
    },
    {
     "name": "stdout",
     "output_type": "stream",
     "text": [
      "finished\n",
      "********************\n",
      "Eval results for day 6 are:\t\n",
      "\n",
      "********************\n",
      "\n",
      " eval_/loss = 4.481883525848389\n",
      " eval_/next-item/hit_rate_at_5 = 0.2395833432674408\n",
      " eval_/next-item/ndcg_at_10 = 0.15109536051750183\n",
      " eval_/next-item/ndcg_at_5 = 0.10079749673604965\n",
      " eval_/next-item/recall_at_10 = 0.3177083432674408\n",
      " eval_/next-item/recall_at_5 = 0.1614583432674408\n",
      " eval_runtime = 0.0862\n",
      " eval_samples_per_second = 2226.27\n",
      " eval_steps_per_second = 69.571\n",
      "['/tmp/sessions_by_day/6/train.parquet']\n",
      "********************\n",
      "Launch training for day 6 are:\n",
      "********************\n",
      "\n"
     ]
    },
    {
     "data": {
      "text/html": [
       "\n",
       "    <div>\n",
       "      \n",
       "      <progress value='60' max='60' style='width:300px; height:20px; vertical-align: middle;'></progress>\n",
       "      [60/60 00:00, Epoch 5/5]\n",
       "    </div>\n",
       "    <table border=\"1\" class=\"dataframe\">\n",
       "  <thead>\n",
       " <tr style=\"text-align: left;\">\n",
       "      <th>Step</th>\n",
       "      <th>Training Loss</th>\n",
       "    </tr>\n",
       "  </thead>\n",
       "  <tbody>\n",
       "    <tr>\n",
       "      <td>50</td>\n",
       "      <td>4.529500</td>\n",
       "    </tr>\n",
       "  </tbody>\n",
       "</table><p>"
      ],
      "text/plain": [
       "<IPython.core.display.HTML object>"
      ]
     },
     "metadata": {},
     "output_type": "display_data"
    },
    {
     "name": "stdout",
     "output_type": "stream",
     "text": [
      "finished\n",
      "********************\n",
      "Eval results for day 7 are:\t\n",
      "\n",
      "********************\n",
      "\n",
      " eval_/loss = 4.618710041046143\n",
      " eval_/next-item/hit_rate_at_5 = 0.2109375\n",
      " eval_/next-item/ndcg_at_10 = 0.12221139669418335\n",
      " eval_/next-item/ndcg_at_5 = 0.07732908427715302\n",
      " eval_/next-item/recall_at_10 = 0.28125\n",
      " eval_/next-item/recall_at_5 = 0.140625\n",
      " eval_runtime = 0.0932\n",
      " eval_samples_per_second = 2060.282\n",
      " eval_steps_per_second = 64.384\n",
      "['/tmp/sessions_by_day/7/train.parquet']\n",
      "********************\n",
      "Launch training for day 7 are:\n",
      "********************\n",
      "\n"
     ]
    },
    {
     "data": {
      "text/html": [
       "\n",
       "    <div>\n",
       "      \n",
       "      <progress value='65' max='65' style='width:300px; height:20px; vertical-align: middle;'></progress>\n",
       "      [65/65 00:00, Epoch 5/5]\n",
       "    </div>\n",
       "    <table border=\"1\" class=\"dataframe\">\n",
       "  <thead>\n",
       " <tr style=\"text-align: left;\">\n",
       "      <th>Step</th>\n",
       "      <th>Training Loss</th>\n",
       "    </tr>\n",
       "  </thead>\n",
       "  <tbody>\n",
       "    <tr>\n",
       "      <td>50</td>\n",
       "      <td>4.525600</td>\n",
       "    </tr>\n",
       "  </tbody>\n",
       "</table><p>"
      ],
      "text/plain": [
       "<IPython.core.display.HTML object>"
      ]
     },
     "metadata": {},
     "output_type": "display_data"
    },
    {
     "name": "stdout",
     "output_type": "stream",
     "text": [
      "finished\n",
      "********************\n",
      "Eval results for day 8 are:\t\n",
      "\n",
      "********************\n",
      "\n",
      " eval_/loss = 4.384883880615234\n",
      " eval_/next-item/hit_rate_at_5 = 0.2291666716337204\n",
      " eval_/next-item/ndcg_at_10 = 0.13606131076812744\n",
      " eval_/next-item/ndcg_at_5 = 0.09815017879009247\n",
      " eval_/next-item/recall_at_10 = 0.2864583432674408\n",
      " eval_/next-item/recall_at_5 = 0.171875\n",
      " eval_runtime = 0.0845\n",
      " eval_samples_per_second = 2273.124\n",
      " eval_steps_per_second = 71.035\n"
     ]
    }
   ],
   "source": [
    "start_time_window_index = start_window_index\n",
    "final_time_window_index = final_window_index\n",
    "#Iterating over days of one week\n",
    "for time_index in range(start_time_window_index, final_time_window_index):\n",
    "    # Set data \n",
    "    time_index_train = time_index\n",
    "    time_index_eval = time_index + 1\n",
    "    train_paths = glob.glob(os.path.join(OUTPUT_DIR, f\"{time_index_train}/train.parquet\"))\n",
    "    eval_paths = glob.glob(os.path.join(OUTPUT_DIR, f\"{time_index_eval}/valid.parquet\"))\n",
    "    print(train_paths)\n",
    "    \n",
    "    # Train on day related to time_index \n",
    "    print('*'*20)\n",
    "    print(\"Launch training for day %s are:\" %time_index)\n",
    "    print('*'*20 + '\\n')\n",
    "    trainer.train_dataset_or_path = train_paths\n",
    "    trainer.reset_lr_scheduler()\n",
    "    trainer.train()\n",
    "    trainer.state.global_step +=1\n",
    "    print('finished')\n",
    "    \n",
    "    # Evaluate on the following day\n",
    "    trainer.eval_dataset_or_path = eval_paths\n",
    "    train_metrics = trainer.evaluate(metric_key_prefix='eval')\n",
    "    print('*'*20)\n",
    "    print(\"Eval results for day %s are:\\t\" %time_index_eval)\n",
    "    print('\\n' + '*'*20 + '\\n')\n",
    "    for key in sorted(train_metrics.keys()):\n",
    "        print(\" %s = %s\" % (key, str(train_metrics[key]))) \n",
    "    wipe_memory()"
   ]
  },
  {
   "cell_type": "code",
   "execution_count": 58,
   "id": "6466496b-3cd1-4670-af17-eef1a5158175",
   "metadata": {},
   "outputs": [],
   "source": [
    "eval_data_paths = glob.glob(os.path.join(OUTPUT_DIR, f\"{time_index_eval}/valid.parquet\"))"
   ]
  },
  {
   "cell_type": "code",
   "execution_count": 59,
   "id": "3cf69ebc-0bd6-4798-9597-b2ab256bc5ab",
   "metadata": {},
   "outputs": [
    {
     "name": "stdout",
     "output_type": "stream",
     "text": [
      "  eval_/loss = 4.3777289390563965\n",
      "  eval_/next-item/hit_rate_at_5 = 0.2421875\n",
      "  eval_/next-item/ndcg_at_10 = 0.15463575720787048\n",
      "  eval_/next-item/ndcg_at_5 = 0.10580851882696152\n",
      "  eval_/next-item/recall_at_10 = 0.3177083432674408\n",
      "  eval_/next-item/recall_at_5 = 0.1666666716337204\n",
      "  eval_runtime = 0.107\n",
      "  eval_samples_per_second = 1794.103\n",
      "  eval_steps_per_second = 56.066\n"
     ]
    }
   ],
   "source": [
    "eval_metrics = trainer.evaluate(eval_dataset=eval_data_paths, metric_key_prefix='eval')\n",
    "for key in sorted(eval_metrics.keys()):\n",
    "    print(\"  %s = %s\" % (key, str(eval_metrics[key])))"
   ]
  },
  {
   "cell_type": "code",
   "execution_count": 31,
   "id": "de086c2a-c2ab-472d-af57-7048e5e38287",
   "metadata": {},
   "outputs": [],
   "source": [
    "model_path= os.environ.get(\"OUTPUT_DIR\", f\"{INPUT_DATA_DIR}/saved_model\")\n",
    "model.save(model_path)"
   ]
  },
  {
   "cell_type": "code",
   "execution_count": null,
   "id": "dcde2a7e-ca4b-4d40-8715-b8b46f2ecde7",
   "metadata": {},
   "outputs": [],
   "source": []
  }
 ],
 "metadata": {
  "kernelspec": {
   "display_name": "Python 3 (ipykernel)",
   "language": "python",
   "name": "python3"
  },
  "language_info": {
   "codemirror_mode": {
    "name": "ipython",
    "version": 3
   },
   "file_extension": ".py",
   "mimetype": "text/x-python",
   "name": "python",
   "nbconvert_exporter": "python",
   "pygments_lexer": "ipython3",
   "version": "3.10.12"
  }
 },
 "nbformat": 4,
 "nbformat_minor": 5
}
