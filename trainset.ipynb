{
 "cells": [
  {
   "cell_type": "code",
   "execution_count": 12,
   "id": "a99ed201-1232-4b6a-9dd8-855ad4e76e41",
   "metadata": {},
   "outputs": [],
   "source": [
    "import os\n",
    "os.environ[\"CUDA_VISIBLE_DEVICES\"]=\"0\"\n",
    "import glob\n",
    "\n",
    "import cudf\n",
    "import numpy as np\n",
    "import pandas as pd\n",
    "\n",
    "import nvtabular as nvt\n",
    "from nvtabular.ops import *\n",
    "from merlin.schema.tags import Tags\n",
    "\n",
    "import nvtabular as nvt\n",
    "from nvtabular.ops import *\n",
    "from merlin.schema.tags import Tags\n",
    "\n",
    "from transformers4rec import torch as tr\n",
    "from transformers4rec.torch.ranking_metric import NDCGAt, AvgPrecisionAt, RecallAt\n",
    "from transformers4rec.torch.utils.examples_utils import wipe_memory"
   ]
  },
  {
   "cell_type": "code",
   "execution_count": 13,
   "id": "5dffeb7b-bac6-4751-a8f1-33acced483b7",
   "metadata": {},
   "outputs": [],
   "source": [
    "import os\n",
    "import pandas as pd\n",
    "from transformers4rec import torch as tr\n",
    "from transformers4rec.torch.ranking_metric import NDCGAt, RecallAt\n",
    "from transformers4rec.config.trainer import T4RecTrainingArguments\n",
    "from transformers4rec.torch import Trainer\n",
    "from merlin.schema import Schema\n",
    "from merlin.io import Dataset\n",
    "\n",
    "import nvtabular as nvt\n",
    "from merlin.dag import ColumnSelector\n",
    "from merlin.schema import Schema, Tags"
   ]
  },
  {
   "cell_type": "code",
   "execution_count": 15,
   "id": "4d2fc226-0303-412a-badc-8e3a0049b012",
   "metadata": {},
   "outputs": [],
   "source": [
    "DATA_DIR =os.getcwd()"
   ]
  },
  {
   "cell_type": "code",
   "execution_count": 60,
   "id": "dadadf4f-8418-448f-a30d-55661955730e",
   "metadata": {},
   "outputs": [],
   "source": [
    "# MOVIELENS_PATH = os.path.join(DATA_DIR, 'ml-100k')\n",
    "# os.makedirs(DATA_DIR, exist_ok=True)\n",
    "\n",
    "# DATA_FILE = os.path.join(MOVIELENS_PATH, 'processed_ml-100k.parquet')\n",
    "df = pd.read_csv(\"netflix_sampled_logs.csv\", names=['user_id', 'item_id', 'rating', 'timestamp'])\n",
    "\n",
    "df['user_id'] = df['user_id'].astype(str)\n",
    "df['item_id'] = df['item_id'].astype(str)\n",
    "df.to_parquet(DATA_FILE, index=False)\n",
    "\n",
    "df.sort_values(by=[\"user_id\", \"timestamp\"], inplace=True)\n",
    "df.reset_index(inplace=True, drop=True)"
   ]
  },
  {
   "cell_type": "code",
   "execution_count": 61,
   "id": "cf34131a-36d9-481a-b3a6-3394c2ed6431",
   "metadata": {},
   "outputs": [
    {
     "data": {
      "text/plain": [
       "(116410, 4)"
      ]
     },
     "execution_count": 61,
     "metadata": {},
     "output_type": "execute_result"
    }
   ],
   "source": [
    "df.shape"
   ]
  },
  {
   "cell_type": "code",
   "execution_count": 72,
   "id": "e426d54a-515f-4967-b10e-c9fb1bdf9cc8",
   "metadata": {},
   "outputs": [],
   "source": [
    "df=df.sample(20000)"
   ]
  },
  {
   "cell_type": "code",
   "execution_count": 86,
   "id": "5ccf08c1-4cbd-4131-b18f-588972abfe81",
   "metadata": {},
   "outputs": [],
   "source": [
    "a=df.copy()"
   ]
  },
  {
   "cell_type": "code",
   "execution_count": 73,
   "id": "f335f2cb-a508-4763-84a5-60097c6537f1",
   "metadata": {},
   "outputs": [],
   "source": [
    "df[\"rating\"]=df[\"rating\"].astype(float)\n",
    "df[\"rating\"]=df[\"rating\"].astype(int)\n",
    "df[\"timestamp\"]=df[\"timestamp\"].astype(int)"
   ]
  },
  {
   "cell_type": "code",
   "execution_count": 82,
   "id": "4a3bba61-8b96-4a09-adc1-994028a1b30d",
   "metadata": {},
   "outputs": [],
   "source": [
    "v1=pd.read_csv(\"netflix_v1_df.csv\")"
   ]
  },
  {
   "cell_type": "code",
   "execution_count": 83,
   "id": "a106261b-163f-4c5e-974a-bd97d95af2af",
   "metadata": {},
   "outputs": [],
   "source": [
    "v1['user_id'] = v1['user_id'].astype(str)\n",
    "v1['item_id'] = v1['item_id'].astype(str)"
   ]
  },
  {
   "cell_type": "code",
   "execution_count": 85,
   "id": "21f085ee-fadb-4c3e-b385-e833e610b4f3",
   "metadata": {},
   "outputs": [],
   "source": [
    "v1[\"rating\"]=v1[\"rating\"].astype(float)\n",
    "v1[\"rating\"]=v1[\"rating\"].astype(int)"
   ]
  },
  {
   "cell_type": "code",
   "execution_count": 87,
   "id": "d711e7a4-4233-4725-baa1-0c0b45fbffd8",
   "metadata": {},
   "outputs": [
    {
     "data": {
      "text/plain": [
       "(25207, 4)"
      ]
     },
     "execution_count": 87,
     "metadata": {},
     "output_type": "execute_result"
    }
   ],
   "source": [
    "a.shape"
   ]
  },
  {
   "cell_type": "code",
   "execution_count": 88,
   "id": "58aef615-d802-41d0-94cf-b19fa16ddc84",
   "metadata": {},
   "outputs": [],
   "source": [
    "df=pd.concat([df, v1])"
   ]
  },
  {
   "cell_type": "code",
   "execution_count": 89,
   "id": "3e23ec07-ef32-4afd-966e-dfcaf70e7a53",
   "metadata": {},
   "outputs": [
    {
     "data": {
      "text/plain": [
       "(25207, 4)"
      ]
     },
     "execution_count": 89,
     "metadata": {},
     "output_type": "execute_result"
    }
   ],
   "source": [
    "a.shape"
   ]
  },
  {
   "cell_type": "code",
   "execution_count": 90,
   "id": "010e92ee-0656-4711-b785-afdc244db007",
   "metadata": {},
   "outputs": [],
   "source": [
    "SESSIONS_MAX_LENGTH =10\n",
    "categ_feats = ['item_id'] >> nvt.ops.Categorify()\n",
    "\n",
    "groupby_feats = categ_feats + ['user_id', 'rating', 'timestamp']\n",
    "# Group interaction features by session\n",
    "groupby_features = groupby_feats >> nvt.ops.Groupby(\n",
    "    groupby_cols=[\"user_id\"], \n",
    "    aggs={\n",
    "        \"item_id\": [\"list\", \"count\"],\n",
    "        \"rating\": [\"list\"],\n",
    "        \"timestamp\": [\"list\"]\n",
    "        },\n",
    "    name_sep=\"-\")\n",
    "\n",
    "sequence_features_truncated_item = (\n",
    "    groupby_features['item_id-list']\n",
    "    >> nvt.ops.ListSlice(-SESSIONS_MAX_LENGTH) \n",
    "    >> TagAsItemID()\n",
    ")  \n",
    "\n",
    "MINIMUM_SESSION_LENGTH = 2\n",
    "selected_features = (\n",
    "    groupby_features['item_id-count', 'user_id'] + \n",
    "    sequence_features_truncated_item + \n",
    "    groupby_features['rating-list', 'timestamp-list']  \n",
    ")\n",
    "\n",
    "filtered_sessions = selected_features >> nvt.ops.Filter(f=lambda df: df[\"item_id-count\"] >= MINIMUM_SESSION_LENGTH)\n",
    "seq_feats_list = (\n",
    "    filtered_sessions['item_id-list', 'rating-list', 'timestamp-list'] \n",
    "    >> nvt.ops.ValueCount() \n",
    ")\n",
    "\n",
    "workflow = nvt.Workflow(filtered_sessions['user_id'] + seq_feats_list)\n",
    "dataset = nvt.Dataset(df)"
   ]
  },
  {
   "cell_type": "code",
   "execution_count": 91,
   "id": "b08835ee-3189-42a6-8c1c-9774881c877e",
   "metadata": {},
   "outputs": [],
   "source": [
    "INPUT_DATA_DIR=os.getcwd()\n",
    "workflow.fit_transform(dataset).to_parquet(os.path.join(INPUT_DATA_DIR, \"movielens-nvt\"))\n",
    "workflow.save(os.path.join(INPUT_DATA_DIR, \"workflow_etl\"))\n",
    "sessions_gdf = cudf.read_parquet(os.path.join(INPUT_DATA_DIR, \"movielens-nvt/part_0.parquet\"))"
   ]
  },
  {
   "cell_type": "code",
   "execution_count": 92,
   "id": "6a70d21b-2c97-4282-b8f4-30357ad78a53",
   "metadata": {},
   "outputs": [],
   "source": [
    "from transformers4rec.utils.data_utils import save_time_based_splits"
   ]
  },
  {
   "cell_type": "code",
   "execution_count": 93,
   "id": "f6dd2116-1ab5-4dec-a5c8-eef41f48fe42",
   "metadata": {},
   "outputs": [
    {
     "data": {
      "text/plain": [
       "(5955, 4)"
      ]
     },
     "execution_count": 93,
     "metadata": {},
     "output_type": "execute_result"
    }
   ],
   "source": [
    "sessions_gdf.shape"
   ]
  },
  {
   "cell_type": "code",
   "execution_count": null,
   "id": "4e663aa3-f04b-42e6-9052-d68dc2ebf411",
   "metadata": {},
   "outputs": [
    {
     "name": "stderr",
     "output_type": "stream",
     "text": [
      "Creating time-based splits:   6%|███▏                                                | 365/5955 [00:10<02:29, 37.48it/s]"
     ]
    }
   ],
   "source": [
    "OUTPUT_DIR = os.path.join(INPUT_DATA_DIR, \"time_based_splits\")\n",
    "os.makedirs(OUTPUT_DIR, exist_ok=True)\n",
    "\n",
    "# 세션 데이터를 NVT Dataset으로 로드\n",
    "sessions_dataset = nvt.Dataset(sessions_gdf)\n",
    "\n",
    "# 세션 데이터를 user_id 기반으로 시간 분할\n",
    "save_time_based_splits(\n",
    "    data=sessions_dataset,\n",
    "    output_dir=OUTPUT_DIR,\n",
    "    partition_col='user_id',  # user_id를 기준으로 분할\n",
    "    timestamp_col='timestamp-list',  # 시간 열\n",
    ")\n",
    "\n",
    "print(f\"Time-based splits saved in {OUTPUT_DIR}\")"
   ]
  },
  {
   "cell_type": "code",
   "execution_count": null,
   "id": "309ea77b-0dd4-4774-bcac-776ddeddc6ab",
   "metadata": {},
   "outputs": [],
   "source": []
  },
  {
   "cell_type": "code",
   "execution_count": null,
   "id": "821a34df-2ec0-4352-8453-6c5175822895",
   "metadata": {},
   "outputs": [],
   "source": []
  },
  {
   "cell_type": "code",
   "execution_count": null,
   "id": "57e63e86-bd55-40c7-8c68-fb92e2d37bae",
   "metadata": {},
   "outputs": [],
   "source": []
  },
  {
   "cell_type": "code",
   "execution_count": null,
   "id": "8daed4a0-1f59-43f8-908a-3b845f487141",
   "metadata": {},
   "outputs": [],
   "source": []
  },
  {
   "cell_type": "code",
   "execution_count": null,
   "id": "04788c2b-3f66-4c7b-ae74-ca71fbfa5e06",
   "metadata": {},
   "outputs": [],
   "source": []
  },
  {
   "cell_type": "code",
   "execution_count": null,
   "id": "9a8db2cc-2431-4682-b4c3-e992ea3d830a",
   "metadata": {},
   "outputs": [],
   "source": []
  },
  {
   "cell_type": "code",
   "execution_count": null,
   "id": "034aa6d8-0d25-411d-9cb0-53beed36be6c",
   "metadata": {},
   "outputs": [],
   "source": []
  }
 ],
 "metadata": {
  "kernelspec": {
   "display_name": "Python 3 (ipykernel)",
   "language": "python",
   "name": "python3"
  },
  "language_info": {
   "codemirror_mode": {
    "name": "ipython",
    "version": 3
   },
   "file_extension": ".py",
   "mimetype": "text/x-python",
   "name": "python",
   "nbconvert_exporter": "python",
   "pygments_lexer": "ipython3",
   "version": "3.10.12"
  }
 },
 "nbformat": 4,
 "nbformat_minor": 5
}
